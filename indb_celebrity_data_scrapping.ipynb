{
 "cells": [
  {
   "cell_type": "markdown",
   "metadata": {},
   "source": [
    "# IMPORTING REQUIRED LIBRARIES"
   ]
  },
  {
   "cell_type": "code",
   "execution_count": 1,
   "metadata": {},
   "outputs": [],
   "source": [
    "from selenium import webdriver                          #For opening browser       \n",
    "import pandas as pd                                     #For creating dataframe\n",
    "from bs4 import BeautifulSoup                           #For scraping data\n",
    "import time                                             #For waiting\n",
    "import numpy as np                                      #For array\n",
    "from tqdm import tqdm                                   #For progress bar"
   ]
  },
  {
   "cell_type": "markdown",
   "metadata": {},
   "source": [
    "# OPENING REQUIRED SITE IN BROWSER"
   ]
  },
  {
   "cell_type": "code",
   "execution_count": 2,
   "metadata": {},
   "outputs": [],
   "source": [
    "driver = webdriver.Firefox()"
   ]
  },
  {
   "cell_type": "code",
   "execution_count": 3,
   "metadata": {},
   "outputs": [],
   "source": [
    "driver.get('https://m.imdb.com/chart/starmeter/')"
   ]
  },
  {
   "cell_type": "markdown",
   "metadata": {},
   "source": [
    "# GETTING HTML CODE OF OPENED WEBPAGE"
   ]
  },
  {
   "cell_type": "code",
   "execution_count": 4,
   "metadata": {},
   "outputs": [],
   "source": [
    "html = driver.page_source"
   ]
  },
  {
   "cell_type": "markdown",
   "metadata": {},
   "source": [
    "# CONVERTING EXTRACTED HTML CODE INTO SOUP TO SCRAP DATA"
   ]
  },
  {
   "cell_type": "code",
   "execution_count": 5,
   "metadata": {},
   "outputs": [],
   "source": [
    "soup = BeautifulSoup(html,\"html.parser\")"
   ]
  },
  {
   "cell_type": "markdown",
   "metadata": {},
   "source": [
    "# EXTRACTING NAMES OF CELEBRITIES AND LINKS TO THEIR INDIVIDUAL WEBPAGES"
   ]
  },
  {
   "cell_type": "code",
   "execution_count": 6,
   "metadata": {},
   "outputs": [],
   "source": [
    "a_list = soup.find_all(\"a\")\n",
    "name_list = []\n",
    "link_list = []\n",
    "for i in range(43,343,3):\n",
    "    name_list.append(a_list[i].get('aria-label'))\n",
    "    link_list.append(a_list[i].get('href'))"
   ]
  },
  {
   "cell_type": "markdown",
   "metadata": {},
   "source": [
    "# EXTRACTING THE FAMOUS WORK OF THESE CELEBRITIES"
   ]
  },
  {
   "cell_type": "code",
   "execution_count": 7,
   "metadata": {},
   "outputs": [],
   "source": [
    "famous_list = []\n",
    "a_list1 = soup.findAll('a',{'data-testid':'nlib-known-for-title'})\n",
    "for i in a_list1:\n",
    "    famous_list.append(i.text)"
   ]
  },
  {
   "cell_type": "markdown",
   "metadata": {},
   "source": [
    "# FUNCTION TO EXTRACT DATE OF BIRTH OF THE CELEBRITIES"
   ]
  },
  {
   "cell_type": "code",
   "execution_count": 8,
   "metadata": {},
   "outputs": [],
   "source": [
    "def get_dob(soup):\n",
    "    try:\n",
    "        sec = soup.findAll('section', {'data-testid':'PersonalDetails'})[0]\n",
    "        dob = sec.findAll('li',{'data-testid':'nm_pd_bl'})[0].findAll('li')[0].text\n",
    "    except Exception as e:\n",
    "        dob = np.nan\n",
    "    return dob"
   ]
  },
  {
   "cell_type": "markdown",
   "metadata": {},
   "source": [
    "# FUNCTION TO EXTRACT HEIGHT OF THE CELEBRITIES"
   ]
  },
  {
   "cell_type": "code",
   "execution_count": 9,
   "metadata": {},
   "outputs": [],
   "source": [
    "def get_height(soup):\n",
    "    try:\n",
    "        sec = soup.findAll('section', {'data-testid':'PersonalDetails'})[0]\n",
    "        height = sec.findAll('li',{'data-testid':'nm_pd_he'})[0].findAll('li')[0].text\n",
    "    except Exception as e:\n",
    "        height = np.nan\n",
    "    return height"
   ]
  },
  {
   "cell_type": "markdown",
   "metadata": {},
   "source": [
    "# FUNCTION TO EXTRACT BIRTHPLACE OF THE CELEBRITIES"
   ]
  },
  {
   "cell_type": "code",
   "execution_count": 10,
   "metadata": {},
   "outputs": [],
   "source": [
    "def get_birthplace(soup):\n",
    "    try:\n",
    "        sec = soup.findAll('section', {'data-testid':'PersonalDetails'})[0]\n",
    "        bp = sec.findAll('li',{'data-testid':'nm_pd_bl'})[0].findAll('li')[1].text\n",
    "    except Exception as e:\n",
    "        bp = np.nan\n",
    "    return bp"
   ]
  },
  {
   "cell_type": "markdown",
   "metadata": {},
   "source": [
    "# FUNCTION TO EXTRACT AWARD DATA OF THE CELEBRITIES"
   ]
  },
  {
   "cell_type": "code",
   "execution_count": 11,
   "metadata": {},
   "outputs": [],
   "source": [
    "def get_awards(soup):\n",
    "    try:\n",
    "        div_list = soup.findAll('div', {'data-testid':'awards'})\n",
    "        awards = div_list[0].findAll('li',{'class':'ipc-inline-list__item'})[0].text\n",
    "    except Exception as e:\n",
    "        awards = np.nan\n",
    "    return awards"
   ]
  },
  {
   "cell_type": "markdown",
   "metadata": {},
   "source": [
    "# FUNCTION TO EXTRACT ROLES OF THE CELEBRITIES"
   ]
  },
  {
   "cell_type": "code",
   "execution_count": 12,
   "metadata": {},
   "outputs": [],
   "source": [
    "def get_role(soup):\n",
    "    role_list = []\n",
    "    try:\n",
    "        li_list = soup.findAll('ul', {'class':'ipc-inline-list ipc-inline-list--show-dividers sc-7f1a92f5-4 kIoyyw baseAlt'})[0].findAll('li')\n",
    "        for i in li_list:\n",
    "            role_list.append(i.text)\n",
    "    except Exception as e:\n",
    "        role_list.append(np.nan)\n",
    "    return role_list"
   ]
  },
  {
   "cell_type": "code",
   "execution_count": 13,
   "metadata": {},
   "outputs": [
    {
     "data": {
      "text/plain": [
       "[nan]"
      ]
     },
     "execution_count": 13,
     "metadata": {},
     "output_type": "execute_result"
    }
   ],
   "source": [
    "get_role(soup)"
   ]
  },
  {
   "cell_type": "markdown",
   "metadata": {},
   "source": [
    "# MAIN LOOP TO ITERATE THROUGH EACH CELEBRITY'S WEBPAGE AND EXTRACT DATA"
   ]
  },
  {
   "cell_type": "code",
   "execution_count": 14,
   "metadata": {},
   "outputs": [
    {
     "name": "stderr",
     "output_type": "stream",
     "text": [
      "Processing Links:   0%|          | 0/100 [00:00<?, ?it/s]"
     ]
    },
    {
     "name": "stderr",
     "output_type": "stream",
     "text": [
      "Processing Links: 100%|██████████| 100/100 [13:12<00:00,  7.93s/it]\n"
     ]
    }
   ],
   "source": [
    "dob_list = []\n",
    "height_list = []\n",
    "role_list = []\n",
    "award_list = []\n",
    "birth_list = []\n",
    "for i in tqdm(link_list, desc=\"Processing Links\"):\n",
    "    driver.get(f'https://m.imdb.com/{i}')\n",
    "    #time.sleep(2)\n",
    "    html = driver.page_source\n",
    "    soup = BeautifulSoup(html,\"html.parser\")\n",
    "    dob_list.append(get_dob(soup))\n",
    "    height_list.append(get_height(soup))\n",
    "    birth_list.append(get_birthplace(soup))\n",
    "    role_list.append(get_role(soup))\n",
    "    award_list.append(get_awards(soup))"
   ]
  },
  {
   "cell_type": "markdown",
   "metadata": {},
   "source": [
    "# CREATING DATAFRAME FOR COLLECTED DATASET "
   ]
  },
  {
   "cell_type": "code",
   "execution_count": 15,
   "metadata": {},
   "outputs": [],
   "source": [
    "df = pd.DataFrame({\n",
    "    'Rank':np.arange(1,101),\n",
    "    'Name': name_list,\n",
    "    'Date_of_birth': dob_list,\n",
    "    'height': height_list,\n",
    "    'Role': role_list,\n",
    "    'Awards': award_list,\n",
    "    'Famous_for': famous_list,\n",
    "    'Birth_place': birth_list\n",
    "})"
   ]
  },
  {
   "cell_type": "markdown",
   "metadata": {},
   "source": [
    "# CHECKING THE DATASET"
   ]
  },
  {
   "cell_type": "code",
   "execution_count": 16,
   "metadata": {},
   "outputs": [
    {
     "data": {
      "text/html": [
       "<div>\n",
       "<style scoped>\n",
       "    .dataframe tbody tr th:only-of-type {\n",
       "        vertical-align: middle;\n",
       "    }\n",
       "\n",
       "    .dataframe tbody tr th {\n",
       "        vertical-align: top;\n",
       "    }\n",
       "\n",
       "    .dataframe thead th {\n",
       "        text-align: right;\n",
       "    }\n",
       "</style>\n",
       "<table border=\"1\" class=\"dataframe\">\n",
       "  <thead>\n",
       "    <tr style=\"text-align: right;\">\n",
       "      <th></th>\n",
       "      <th>Rank</th>\n",
       "      <th>Name</th>\n",
       "      <th>Date_of_birth</th>\n",
       "      <th>height</th>\n",
       "      <th>Role</th>\n",
       "      <th>Awards</th>\n",
       "      <th>Famous_for</th>\n",
       "      <th>Birth_place</th>\n",
       "    </tr>\n",
       "  </thead>\n",
       "  <tbody>\n",
       "    <tr>\n",
       "      <th>0</th>\n",
       "      <td>1</td>\n",
       "      <td>Zawe Ashton</td>\n",
       "      <td>July 25, 1984</td>\n",
       "      <td>5′ 10″ (1.78 m)</td>\n",
       "      <td>[Actress, Producer, Writer]</td>\n",
       "      <td>1 win &amp; 1 nomination</td>\n",
       "      <td>Velvet Buzzsaw (2019)</td>\n",
       "      <td>Hackney, London, England, UK</td>\n",
       "    </tr>\n",
       "    <tr>\n",
       "      <th>1</th>\n",
       "      <td>2</td>\n",
       "      <td>Brie Larson</td>\n",
       "      <td>October 1, 1989</td>\n",
       "      <td>5′ 6¾″ (1.70 m)</td>\n",
       "      <td>[Actress, Producer, Director]</td>\n",
       "      <td>66 wins &amp; 68 nominations total</td>\n",
       "      <td>Room (2015)</td>\n",
       "      <td>Sacramento, California, USA</td>\n",
       "    </tr>\n",
       "    <tr>\n",
       "      <th>2</th>\n",
       "      <td>3</td>\n",
       "      <td>Michael Fassbender</td>\n",
       "      <td>April 2, 1977</td>\n",
       "      <td>6′ (1.83 m)</td>\n",
       "      <td>[Actor, Producer, Executive]</td>\n",
       "      <td>78 wins &amp; 154 nominations total</td>\n",
       "      <td>Shame (2011)</td>\n",
       "      <td>Heidelberg, Baden-Württemberg, West Germany</td>\n",
       "    </tr>\n",
       "    <tr>\n",
       "      <th>3</th>\n",
       "      <td>4</td>\n",
       "      <td>Sydney Sweeney</td>\n",
       "      <td>September 12, 1997</td>\n",
       "      <td>5′ 3½″ (1.61 m)</td>\n",
       "      <td>[Actress, Producer]</td>\n",
       "      <td>4 wins &amp; 15 nominations total</td>\n",
       "      <td>Euphoria (2019–2025)</td>\n",
       "      <td>Spokane, Washington, USA</td>\n",
       "    </tr>\n",
       "    <tr>\n",
       "      <th>4</th>\n",
       "      <td>5</td>\n",
       "      <td>David Fincher</td>\n",
       "      <td>August 28, 1962</td>\n",
       "      <td>6′ 0½″ (1.84 m)</td>\n",
       "      <td>[Producer, Director, Writer]</td>\n",
       "      <td>72 wins &amp; 150 nominations total</td>\n",
       "      <td>Se7en (1995)</td>\n",
       "      <td>Denver, Colorado, USA</td>\n",
       "    </tr>\n",
       "  </tbody>\n",
       "</table>\n",
       "</div>"
      ],
      "text/plain": [
       "   Rank                Name       Date_of_birth           height  \\\n",
       "0     1         Zawe Ashton       July 25, 1984  5′ 10″ (1.78 m)   \n",
       "1     2         Brie Larson     October 1, 1989  5′ 6¾″ (1.70 m)   \n",
       "2     3  Michael Fassbender       April 2, 1977      6′ (1.83 m)   \n",
       "3     4      Sydney Sweeney  September 12, 1997  5′ 3½″ (1.61 m)   \n",
       "4     5       David Fincher     August 28, 1962  6′ 0½″ (1.84 m)   \n",
       "\n",
       "                            Role                           Awards  \\\n",
       "0    [Actress, Producer, Writer]             1 win & 1 nomination   \n",
       "1  [Actress, Producer, Director]   66 wins & 68 nominations total   \n",
       "2   [Actor, Producer, Executive]  78 wins & 154 nominations total   \n",
       "3            [Actress, Producer]    4 wins & 15 nominations total   \n",
       "4   [Producer, Director, Writer]  72 wins & 150 nominations total   \n",
       "\n",
       "              Famous_for                                  Birth_place  \n",
       "0  Velvet Buzzsaw (2019)                 Hackney, London, England, UK  \n",
       "1            Room (2015)                  Sacramento, California, USA  \n",
       "2           Shame (2011)  Heidelberg, Baden-Württemberg, West Germany  \n",
       "3   Euphoria (2019–2025)                     Spokane, Washington, USA  \n",
       "4           Se7en (1995)                        Denver, Colorado, USA  "
      ]
     },
     "execution_count": 16,
     "metadata": {},
     "output_type": "execute_result"
    }
   ],
   "source": [
    "df.head()"
   ]
  },
  {
   "cell_type": "code",
   "execution_count": 17,
   "metadata": {},
   "outputs": [
    {
     "data": {
      "text/html": [
       "<div>\n",
       "<style scoped>\n",
       "    .dataframe tbody tr th:only-of-type {\n",
       "        vertical-align: middle;\n",
       "    }\n",
       "\n",
       "    .dataframe tbody tr th {\n",
       "        vertical-align: top;\n",
       "    }\n",
       "\n",
       "    .dataframe thead th {\n",
       "        text-align: right;\n",
       "    }\n",
       "</style>\n",
       "<table border=\"1\" class=\"dataframe\">\n",
       "  <thead>\n",
       "    <tr style=\"text-align: right;\">\n",
       "      <th></th>\n",
       "      <th>Rank</th>\n",
       "      <th>Name</th>\n",
       "      <th>Date_of_birth</th>\n",
       "      <th>height</th>\n",
       "      <th>Role</th>\n",
       "      <th>Awards</th>\n",
       "      <th>Famous_for</th>\n",
       "      <th>Birth_place</th>\n",
       "    </tr>\n",
       "  </thead>\n",
       "  <tbody>\n",
       "    <tr>\n",
       "      <th>95</th>\n",
       "      <td>96</td>\n",
       "      <td>Emma Dumont</td>\n",
       "      <td>November 15, 1994</td>\n",
       "      <td>5′ 9″ (1.75 m)</td>\n",
       "      <td>[Actress, Director, Producer]</td>\n",
       "      <td>NaN</td>\n",
       "      <td>Inherent Vice (2014)</td>\n",
       "      <td>Seattle, Washington, USA</td>\n",
       "    </tr>\n",
       "    <tr>\n",
       "      <th>96</th>\n",
       "      <td>97</td>\n",
       "      <td>Mary McDonnell</td>\n",
       "      <td>April 28, 1952</td>\n",
       "      <td>5′ 8″ (1.73 m)</td>\n",
       "      <td>[Actress, Soundtrack]</td>\n",
       "      <td>4 wins &amp; 15 nominations total</td>\n",
       "      <td>Battlestar Galactica (2004–2009)</td>\n",
       "      <td>Wilkes-Barre, Pennsylvania, USA</td>\n",
       "    </tr>\n",
       "    <tr>\n",
       "      <th>97</th>\n",
       "      <td>98</td>\n",
       "      <td>Tom Hardy</td>\n",
       "      <td>September 15, 1977</td>\n",
       "      <td>5′ 9″ (1.75 m)</td>\n",
       "      <td>[Actor, Producer, Writer]</td>\n",
       "      <td>22 wins &amp; 86 nominations total</td>\n",
       "      <td>Inception (2010)</td>\n",
       "      <td>Hammersmith, London, England, UK</td>\n",
       "    </tr>\n",
       "    <tr>\n",
       "      <th>98</th>\n",
       "      <td>99</td>\n",
       "      <td>Barry Keoghan</td>\n",
       "      <td>October 18, 1992</td>\n",
       "      <td>5′ 8″ (1.73 m)</td>\n",
       "      <td>[Actor]</td>\n",
       "      <td>11 wins &amp; 68 nominations total</td>\n",
       "      <td>The Killing of a Sacred Deer (2017)</td>\n",
       "      <td>Dublin, Ireland</td>\n",
       "    </tr>\n",
       "    <tr>\n",
       "      <th>99</th>\n",
       "      <td>100</td>\n",
       "      <td>Missi Pyle</td>\n",
       "      <td>November 16</td>\n",
       "      <td>5′ 11¾″ (1.82 m)</td>\n",
       "      <td>[Actress, Writer, Producer]</td>\n",
       "      <td>2 wins &amp; 6 nominations</td>\n",
       "      <td>Galaxy Quest (1999)</td>\n",
       "      <td>Houston, Texas, USA</td>\n",
       "    </tr>\n",
       "  </tbody>\n",
       "</table>\n",
       "</div>"
      ],
      "text/plain": [
       "    Rank            Name       Date_of_birth            height  \\\n",
       "95    96     Emma Dumont   November 15, 1994    5′ 9″ (1.75 m)   \n",
       "96    97  Mary McDonnell      April 28, 1952    5′ 8″ (1.73 m)   \n",
       "97    98       Tom Hardy  September 15, 1977    5′ 9″ (1.75 m)   \n",
       "98    99   Barry Keoghan    October 18, 1992    5′ 8″ (1.73 m)   \n",
       "99   100      Missi Pyle         November 16  5′ 11¾″ (1.82 m)   \n",
       "\n",
       "                             Role                          Awards  \\\n",
       "95  [Actress, Director, Producer]                             NaN   \n",
       "96          [Actress, Soundtrack]   4 wins & 15 nominations total   \n",
       "97      [Actor, Producer, Writer]  22 wins & 86 nominations total   \n",
       "98                        [Actor]  11 wins & 68 nominations total   \n",
       "99    [Actress, Writer, Producer]          2 wins & 6 nominations   \n",
       "\n",
       "                             Famous_for                       Birth_place  \n",
       "95                 Inherent Vice (2014)          Seattle, Washington, USA  \n",
       "96     Battlestar Galactica (2004–2009)   Wilkes-Barre, Pennsylvania, USA  \n",
       "97                     Inception (2010)  Hammersmith, London, England, UK  \n",
       "98  The Killing of a Sacred Deer (2017)                   Dublin, Ireland  \n",
       "99                  Galaxy Quest (1999)               Houston, Texas, USA  "
      ]
     },
     "execution_count": 17,
     "metadata": {},
     "output_type": "execute_result"
    }
   ],
   "source": [
    "df.tail()"
   ]
  },
  {
   "cell_type": "code",
   "execution_count": 18,
   "metadata": {},
   "outputs": [
    {
     "data": {
      "text/html": [
       "<div>\n",
       "<style scoped>\n",
       "    .dataframe tbody tr th:only-of-type {\n",
       "        vertical-align: middle;\n",
       "    }\n",
       "\n",
       "    .dataframe tbody tr th {\n",
       "        vertical-align: top;\n",
       "    }\n",
       "\n",
       "    .dataframe thead th {\n",
       "        text-align: right;\n",
       "    }\n",
       "</style>\n",
       "<table border=\"1\" class=\"dataframe\">\n",
       "  <thead>\n",
       "    <tr style=\"text-align: right;\">\n",
       "      <th></th>\n",
       "      <th>Rank</th>\n",
       "      <th>Name</th>\n",
       "      <th>Date_of_birth</th>\n",
       "      <th>height</th>\n",
       "      <th>Role</th>\n",
       "      <th>Awards</th>\n",
       "      <th>Famous_for</th>\n",
       "      <th>Birth_place</th>\n",
       "    </tr>\n",
       "  </thead>\n",
       "  <tbody>\n",
       "    <tr>\n",
       "      <th>68</th>\n",
       "      <td>69</td>\n",
       "      <td>Hailee Steinfeld</td>\n",
       "      <td>December 11, 1996</td>\n",
       "      <td>5′ 8½″ (1.74 m)</td>\n",
       "      <td>[Actress, Producer, Composer]</td>\n",
       "      <td>26 wins &amp; 61 nominations total</td>\n",
       "      <td>True Grit (2010)</td>\n",
       "      <td>Tarzana, Los Angeles, California, USA</td>\n",
       "    </tr>\n",
       "    <tr>\n",
       "      <th>31</th>\n",
       "      <td>32</td>\n",
       "      <td>Mckenna Grace</td>\n",
       "      <td>June 25, 2006</td>\n",
       "      <td>5′ 0¾″ (1.54 m)</td>\n",
       "      <td>[Actress, Producer, Additional Crew]</td>\n",
       "      <td>3 wins &amp; 12 nominations total</td>\n",
       "      <td>Gifted (2017)</td>\n",
       "      <td>Grapevine, Texas, USA</td>\n",
       "    </tr>\n",
       "    <tr>\n",
       "      <th>69</th>\n",
       "      <td>70</td>\n",
       "      <td>Elizabeth Lail</td>\n",
       "      <td>March 25, 1992</td>\n",
       "      <td>5′ 8″ (1.73 m)</td>\n",
       "      <td>[Actress]</td>\n",
       "      <td>1 nomination</td>\n",
       "      <td>Five Nights at Freddy's (2023)</td>\n",
       "      <td>Williamson County, Texas, USA</td>\n",
       "    </tr>\n",
       "    <tr>\n",
       "      <th>83</th>\n",
       "      <td>84</td>\n",
       "      <td>Anya Taylor-Joy</td>\n",
       "      <td>April 16, 1996</td>\n",
       "      <td>5′ 8″ (1.73 m)</td>\n",
       "      <td>[Actress, Soundtrack]</td>\n",
       "      <td>19 wins &amp; 44 nominations total</td>\n",
       "      <td>The Queen's Gambit (2020– )</td>\n",
       "      <td>Miami, Florida, USA</td>\n",
       "    </tr>\n",
       "    <tr>\n",
       "      <th>4</th>\n",
       "      <td>5</td>\n",
       "      <td>David Fincher</td>\n",
       "      <td>August 28, 1962</td>\n",
       "      <td>6′ 0½″ (1.84 m)</td>\n",
       "      <td>[Producer, Director, Writer]</td>\n",
       "      <td>72 wins &amp; 150 nominations total</td>\n",
       "      <td>Se7en (1995)</td>\n",
       "      <td>Denver, Colorado, USA</td>\n",
       "    </tr>\n",
       "    <tr>\n",
       "      <th>53</th>\n",
       "      <td>54</td>\n",
       "      <td>Kelly Reilly</td>\n",
       "      <td>July 18, 1977</td>\n",
       "      <td>5′ 6″ (1.68 m)</td>\n",
       "      <td>[Actress, Producer]</td>\n",
       "      <td>7 wins &amp; 12 nominations</td>\n",
       "      <td>Pride &amp; Prejudice (2005)</td>\n",
       "      <td>Surrey, England, UK</td>\n",
       "    </tr>\n",
       "    <tr>\n",
       "      <th>24</th>\n",
       "      <td>25</td>\n",
       "      <td>Millie Bobby Brown</td>\n",
       "      <td>February 19, 2004</td>\n",
       "      <td>5′ 3½″ (1.61 m)</td>\n",
       "      <td>[Actress, Producer, Executive]</td>\n",
       "      <td>19 wins &amp; 40 nominations total</td>\n",
       "      <td>Enola Holmes (2020)</td>\n",
       "      <td>Málaga, Andalucía, Spain</td>\n",
       "    </tr>\n",
       "    <tr>\n",
       "      <th>5</th>\n",
       "      <td>6</td>\n",
       "      <td>Aria Mia Loberti</td>\n",
       "      <td>NaN</td>\n",
       "      <td>5′ 3½″ (1.61 m)</td>\n",
       "      <td>[Actress]</td>\n",
       "      <td>NaN</td>\n",
       "      <td>All the Light We Cannot See (2023– )</td>\n",
       "      <td>NaN</td>\n",
       "    </tr>\n",
       "    <tr>\n",
       "      <th>58</th>\n",
       "      <td>59</td>\n",
       "      <td>Jeremy Allen White</td>\n",
       "      <td>February 17, 1991</td>\n",
       "      <td>5′ 7″ (1.70 m)</td>\n",
       "      <td>[Actor, Writer, Producer]</td>\n",
       "      <td>5 wins &amp; 13 nominations total</td>\n",
       "      <td>Shameless (2011–2021)</td>\n",
       "      <td>Brooklyn, New York, USA</td>\n",
       "    </tr>\n",
       "    <tr>\n",
       "      <th>60</th>\n",
       "      <td>61</td>\n",
       "      <td>Shailene Woodley</td>\n",
       "      <td>November 15, 1991</td>\n",
       "      <td>5′ 8″ (1.73 m)</td>\n",
       "      <td>[Actress, Producer, Additional Crew]</td>\n",
       "      <td>37 wins &amp; 73 nominations total</td>\n",
       "      <td>Divergent (2014)</td>\n",
       "      <td>Simi Valley, California, USA</td>\n",
       "    </tr>\n",
       "    <tr>\n",
       "      <th>93</th>\n",
       "      <td>94</td>\n",
       "      <td>Lukas Gage</td>\n",
       "      <td>May 28, 1995</td>\n",
       "      <td>5′ 10″ (1.78 m)</td>\n",
       "      <td>[Actor, Writer, Soundtrack]</td>\n",
       "      <td>1 win</td>\n",
       "      <td>Euphoria (2019– )</td>\n",
       "      <td>San Diego, California, USA</td>\n",
       "    </tr>\n",
       "    <tr>\n",
       "      <th>45</th>\n",
       "      <td>46</td>\n",
       "      <td>Kate Siegel</td>\n",
       "      <td>August 9, 1982</td>\n",
       "      <td>5′ 8″ (1.73 m)</td>\n",
       "      <td>[Actress, Writer, Make-Up Department]</td>\n",
       "      <td>8 nominations</td>\n",
       "      <td>Hush (2016)</td>\n",
       "      <td>Silver Spring, Maryland, USA</td>\n",
       "    </tr>\n",
       "    <tr>\n",
       "      <th>56</th>\n",
       "      <td>57</td>\n",
       "      <td>Olga Kurylenko</td>\n",
       "      <td>November 14, 1979</td>\n",
       "      <td>5′ 9¼″ (1.76 m)</td>\n",
       "      <td>[Actress, Writer, Producer]</td>\n",
       "      <td>2 wins &amp; 5 nominations</td>\n",
       "      <td>Oblivion (2013)</td>\n",
       "      <td>Berdyansk, Zaporozhye Oblast, Ukrainian SSR, U...</td>\n",
       "    </tr>\n",
       "    <tr>\n",
       "      <th>77</th>\n",
       "      <td>78</td>\n",
       "      <td>Denzel Washington</td>\n",
       "      <td>December 28, 1954</td>\n",
       "      <td>6′ 0½″ (1.84 m)</td>\n",
       "      <td>[Actor, Producer, Director]</td>\n",
       "      <td>87 wins &amp; 209 nominations total</td>\n",
       "      <td>Fences (2016)</td>\n",
       "      <td>Mount Vernon, New York, USA</td>\n",
       "    </tr>\n",
       "    <tr>\n",
       "      <th>51</th>\n",
       "      <td>52</td>\n",
       "      <td>Tom Cruise</td>\n",
       "      <td>July 3, 1962</td>\n",
       "      <td>5′ 7″ (1.70 m)</td>\n",
       "      <td>[Actor, Producer, Director]</td>\n",
       "      <td>59 wins &amp; 110 nominations total</td>\n",
       "      <td>Top Gun (1986)</td>\n",
       "      <td>Syracuse, New York, USA</td>\n",
       "    </tr>\n",
       "    <tr>\n",
       "      <th>71</th>\n",
       "      <td>72</td>\n",
       "      <td>Ivanna Sakhno</td>\n",
       "      <td>November 14, 1997</td>\n",
       "      <td>5′ 8″ (1.73 m)</td>\n",
       "      <td>[Actress, Producer]</td>\n",
       "      <td>1 nomination</td>\n",
       "      <td>Ahsoka (2023– )</td>\n",
       "      <td>Kyiv, Ukraine</td>\n",
       "    </tr>\n",
       "    <tr>\n",
       "      <th>32</th>\n",
       "      <td>33</td>\n",
       "      <td>Hannah Waddingham</td>\n",
       "      <td>July 28, 1974</td>\n",
       "      <td>5′ 10¾″ (1.80 m)</td>\n",
       "      <td>[Actress, Producer, Soundtrack]</td>\n",
       "      <td>11 wins &amp; 18 nominations total</td>\n",
       "      <td>Ted Lasso (2020–2023)</td>\n",
       "      <td>London, England, UK</td>\n",
       "    </tr>\n",
       "    <tr>\n",
       "      <th>82</th>\n",
       "      <td>83</td>\n",
       "      <td>Cailee Spaeny</td>\n",
       "      <td>July 24, 1998</td>\n",
       "      <td>5′ 1″ (1.55 m)</td>\n",
       "      <td>[Actress]</td>\n",
       "      <td>1 win &amp; 3 nominations</td>\n",
       "      <td>On the Basis of Sex (2018)</td>\n",
       "      <td>Springfield, Missouri, USA</td>\n",
       "    </tr>\n",
       "    <tr>\n",
       "      <th>21</th>\n",
       "      <td>22</td>\n",
       "      <td>Hunter Schafer</td>\n",
       "      <td>December 31, 1998</td>\n",
       "      <td>5′ 10″ (1.78 m)</td>\n",
       "      <td>[Actress, Director, Writer]</td>\n",
       "      <td>4 nominations</td>\n",
       "      <td>Euphoria (2019–2025)</td>\n",
       "      <td>Trenton, New Jersey, USA</td>\n",
       "    </tr>\n",
       "    <tr>\n",
       "      <th>46</th>\n",
       "      <td>47</td>\n",
       "      <td>Harris Dickinson</td>\n",
       "      <td>June 24, 1996</td>\n",
       "      <td>6′ 2″ (1.88 m)</td>\n",
       "      <td>[Actor, Director, Writer]</td>\n",
       "      <td>3 wins &amp; 13 nominations total</td>\n",
       "      <td>Beach Rats (2017)</td>\n",
       "      <td>Leytonstone, Essex, England, UK</td>\n",
       "    </tr>\n",
       "  </tbody>\n",
       "</table>\n",
       "</div>"
      ],
      "text/plain": [
       "    Rank                Name      Date_of_birth            height  \\\n",
       "68    69    Hailee Steinfeld  December 11, 1996   5′ 8½″ (1.74 m)   \n",
       "31    32       Mckenna Grace      June 25, 2006   5′ 0¾″ (1.54 m)   \n",
       "69    70      Elizabeth Lail     March 25, 1992    5′ 8″ (1.73 m)   \n",
       "83    84     Anya Taylor-Joy     April 16, 1996    5′ 8″ (1.73 m)   \n",
       "4      5       David Fincher    August 28, 1962   6′ 0½″ (1.84 m)   \n",
       "53    54        Kelly Reilly      July 18, 1977    5′ 6″ (1.68 m)   \n",
       "24    25  Millie Bobby Brown  February 19, 2004   5′ 3½″ (1.61 m)   \n",
       "5      6    Aria Mia Loberti                NaN   5′ 3½″ (1.61 m)   \n",
       "58    59  Jeremy Allen White  February 17, 1991    5′ 7″ (1.70 m)   \n",
       "60    61    Shailene Woodley  November 15, 1991    5′ 8″ (1.73 m)   \n",
       "93    94          Lukas Gage       May 28, 1995   5′ 10″ (1.78 m)   \n",
       "45    46         Kate Siegel     August 9, 1982    5′ 8″ (1.73 m)   \n",
       "56    57      Olga Kurylenko  November 14, 1979   5′ 9¼″ (1.76 m)   \n",
       "77    78   Denzel Washington  December 28, 1954   6′ 0½″ (1.84 m)   \n",
       "51    52          Tom Cruise       July 3, 1962    5′ 7″ (1.70 m)   \n",
       "71    72       Ivanna Sakhno  November 14, 1997    5′ 8″ (1.73 m)   \n",
       "32    33   Hannah Waddingham      July 28, 1974  5′ 10¾″ (1.80 m)   \n",
       "82    83       Cailee Spaeny      July 24, 1998    5′ 1″ (1.55 m)   \n",
       "21    22      Hunter Schafer  December 31, 1998   5′ 10″ (1.78 m)   \n",
       "46    47    Harris Dickinson      June 24, 1996    6′ 2″ (1.88 m)   \n",
       "\n",
       "                                     Role                           Awards  \\\n",
       "68          [Actress, Producer, Composer]   26 wins & 61 nominations total   \n",
       "31   [Actress, Producer, Additional Crew]    3 wins & 12 nominations total   \n",
       "69                              [Actress]                     1 nomination   \n",
       "83                  [Actress, Soundtrack]   19 wins & 44 nominations total   \n",
       "4            [Producer, Director, Writer]  72 wins & 150 nominations total   \n",
       "53                    [Actress, Producer]          7 wins & 12 nominations   \n",
       "24         [Actress, Producer, Executive]   19 wins & 40 nominations total   \n",
       "5                               [Actress]                              NaN   \n",
       "58              [Actor, Writer, Producer]    5 wins & 13 nominations total   \n",
       "60   [Actress, Producer, Additional Crew]   37 wins & 73 nominations total   \n",
       "93            [Actor, Writer, Soundtrack]                            1 win   \n",
       "45  [Actress, Writer, Make-Up Department]                    8 nominations   \n",
       "56            [Actress, Writer, Producer]           2 wins & 5 nominations   \n",
       "77            [Actor, Producer, Director]  87 wins & 209 nominations total   \n",
       "51            [Actor, Producer, Director]  59 wins & 110 nominations total   \n",
       "71                    [Actress, Producer]                     1 nomination   \n",
       "32        [Actress, Producer, Soundtrack]   11 wins & 18 nominations total   \n",
       "82                              [Actress]            1 win & 3 nominations   \n",
       "21            [Actress, Director, Writer]                    4 nominations   \n",
       "46              [Actor, Director, Writer]    3 wins & 13 nominations total   \n",
       "\n",
       "                              Famous_for  \\\n",
       "68                      True Grit (2010)   \n",
       "31                         Gifted (2017)   \n",
       "69        Five Nights at Freddy's (2023)   \n",
       "83           The Queen's Gambit (2020– )   \n",
       "4                           Se7en (1995)   \n",
       "53              Pride & Prejudice (2005)   \n",
       "24                   Enola Holmes (2020)   \n",
       "5   All the Light We Cannot See (2023– )   \n",
       "58                 Shameless (2011–2021)   \n",
       "60                      Divergent (2014)   \n",
       "93                     Euphoria (2019– )   \n",
       "45                           Hush (2016)   \n",
       "56                       Oblivion (2013)   \n",
       "77                         Fences (2016)   \n",
       "51                        Top Gun (1986)   \n",
       "71                       Ahsoka (2023– )   \n",
       "32                 Ted Lasso (2020–2023)   \n",
       "82            On the Basis of Sex (2018)   \n",
       "21                  Euphoria (2019–2025)   \n",
       "46                     Beach Rats (2017)   \n",
       "\n",
       "                                          Birth_place  \n",
       "68              Tarzana, Los Angeles, California, USA  \n",
       "31                              Grapevine, Texas, USA  \n",
       "69                      Williamson County, Texas, USA  \n",
       "83                                Miami, Florida, USA  \n",
       "4                               Denver, Colorado, USA  \n",
       "53                                Surrey, England, UK  \n",
       "24                           Málaga, Andalucía, Spain  \n",
       "5                                                 NaN  \n",
       "58                            Brooklyn, New York, USA  \n",
       "60                       Simi Valley, California, USA  \n",
       "93                         San Diego, California, USA  \n",
       "45                       Silver Spring, Maryland, USA  \n",
       "56  Berdyansk, Zaporozhye Oblast, Ukrainian SSR, U...  \n",
       "77                        Mount Vernon, New York, USA  \n",
       "51                            Syracuse, New York, USA  \n",
       "71                                      Kyiv, Ukraine  \n",
       "32                                London, England, UK  \n",
       "82                         Springfield, Missouri, USA  \n",
       "21                           Trenton, New Jersey, USA  \n",
       "46                    Leytonstone, Essex, England, UK  "
      ]
     },
     "execution_count": 18,
     "metadata": {},
     "output_type": "execute_result"
    }
   ],
   "source": [
    "df.sample(20)"
   ]
  },
  {
   "cell_type": "markdown",
   "metadata": {},
   "source": [
    "# SAVING THE DATASET"
   ]
  },
  {
   "cell_type": "code",
   "execution_count": 19,
   "metadata": {},
   "outputs": [],
   "source": [
    "df.to_csv('celebrity_data.csv',index= False)"
   ]
  },
  {
   "cell_type": "code",
   "execution_count": null,
   "metadata": {},
   "outputs": [],
   "source": []
  }
 ],
 "metadata": {
  "kernelspec": {
   "display_name": "Python 3",
   "language": "python",
   "name": "python3"
  },
  "language_info": {
   "codemirror_mode": {
    "name": "ipython",
    "version": 3
   },
   "file_extension": ".py",
   "mimetype": "text/x-python",
   "name": "python",
   "nbconvert_exporter": "python",
   "pygments_lexer": "ipython3",
   "version": "3.10.5"
  }
 },
 "nbformat": 4,
 "nbformat_minor": 2
}
