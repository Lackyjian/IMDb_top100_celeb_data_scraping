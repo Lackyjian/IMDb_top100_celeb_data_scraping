{
 "cells": [
  {
   "cell_type": "markdown",
   "metadata": {},
   "source": [
    "# IMPORTING REQUIRED LIBRARIES"
   ]
  },
  {
   "cell_type": "code",
   "execution_count": 1,
   "metadata": {},
   "outputs": [],
   "source": [
    "from selenium import webdriver                          #For opening browser       \n",
    "import pandas as pd                                     #For creating dataframe\n",
    "from bs4 import BeautifulSoup                           #For scraping data\n",
    "import time                                             #For waiting\n",
    "import numpy as np                                      #For array\n",
    "from tqdm import tqdm                                   #For progress bar"
   ]
  },
  {
   "cell_type": "markdown",
   "metadata": {},
   "source": [
    "# OPENING REQUIRED SITE IN BROWSER"
   ]
  },
  {
   "cell_type": "code",
   "execution_count": 2,
   "metadata": {},
   "outputs": [],
   "source": [
    "driver = webdriver.Firefox()"
   ]
  },
  {
   "cell_type": "code",
   "execution_count": 3,
   "metadata": {},
   "outputs": [],
   "source": [
    "driver.get('https://m.imdb.com/chart/starmeter/')"
   ]
  },
  {
   "cell_type": "markdown",
   "metadata": {},
   "source": [
    "# GETTING HTML CODE OF OPENED WEBPAGE"
   ]
  },
  {
   "cell_type": "code",
   "execution_count": 4,
   "metadata": {},
   "outputs": [],
   "source": [
    "html = driver.page_source"
   ]
  },
  {
   "cell_type": "markdown",
   "metadata": {},
   "source": [
    "# CONVERTING EXTRACTED HTML CODE INTO SOUP TO SCRAP DATA"
   ]
  },
  {
   "cell_type": "code",
   "execution_count": 5,
   "metadata": {},
   "outputs": [],
   "source": [
    "soup = BeautifulSoup(html,\"html.parser\")"
   ]
  },
  {
   "cell_type": "markdown",
   "metadata": {},
   "source": [
    "# EXTRACTING NAMES OF CELEBRITIES AND LINKS TO THEIR INDIVIDUAL WEBPAGES"
   ]
  },
  {
   "cell_type": "code",
   "execution_count": 6,
   "metadata": {},
   "outputs": [],
   "source": [
    "a_list = soup.find_all(\"a\")\n",
    "name_list = []\n",
    "link_list = []\n",
    "for i in range(43,343,3):\n",
    "    name_list.append(a_list[i].get('aria-label'))\n",
    "    link_list.append(a_list[i].get('href'))"
   ]
  },
  {
   "cell_type": "markdown",
   "metadata": {},
   "source": [
    "# EXTRACTING THE FAMOUS WORK OF THESE CELEBRITIES"
   ]
  },
  {
   "cell_type": "code",
   "execution_count": 7,
   "metadata": {},
   "outputs": [],
   "source": [
    "famous_list = []\n",
    "a_list1 = soup.findAll('a',{'data-testid':'nlib-known-for-title'})\n",
    "for i in a_list1:\n",
    "    famous_list.append(i.text)"
   ]
  },
  {
   "cell_type": "markdown",
   "metadata": {},
   "source": [
    "# FUNCTION TO EXTRACT DATE OF BIRTH OF THE CELEBRITIES"
   ]
  },
  {
   "cell_type": "code",
   "execution_count": 8,
   "metadata": {},
   "outputs": [],
   "source": [
    "def get_dob(soup):\n",
    "    try:\n",
    "        sec = soup.findAll('section', {'data-testid':'PersonalDetails'})[0]\n",
    "        dob = sec.findAll('li',{'data-testid':'nm_pd_bl'})[0].findAll('li')[0].text\n",
    "    except Exception as e:\n",
    "        dob = np.nan\n",
    "    return dob"
   ]
  },
  {
   "cell_type": "markdown",
   "metadata": {},
   "source": [
    "# FUNCTION TO EXTRACT HEIGHT OF THE CELEBRITIES"
   ]
  },
  {
   "cell_type": "code",
   "execution_count": 9,
   "metadata": {},
   "outputs": [],
   "source": [
    "def get_height(soup):\n",
    "    try:\n",
    "        sec = soup.findAll('section', {'data-testid':'PersonalDetails'})[0]\n",
    "        height = sec.findAll('li',{'data-testid':'nm_pd_he'})[0].findAll('li')[0].text\n",
    "    except Exception as e:\n",
    "        height = np.nan\n",
    "    return height"
   ]
  },
  {
   "cell_type": "markdown",
   "metadata": {},
   "source": [
    "# FUNCTION TO EXTRACT BIRTHPLACE OF THE CELEBRITIES"
   ]
  },
  {
   "cell_type": "code",
   "execution_count": 10,
   "metadata": {},
   "outputs": [],
   "source": [
    "def get_birthplace(soup):\n",
    "    try:\n",
    "        sec = soup.findAll('section', {'data-testid':'PersonalDetails'})[0]\n",
    "        bp = sec.findAll('li',{'data-testid':'nm_pd_bl'})[0].findAll('li')[1].text\n",
    "    except Exception as e:\n",
    "        bp = np.nan\n",
    "    return bp"
   ]
  },
  {
   "cell_type": "markdown",
   "metadata": {},
   "source": [
    "# FUNCTION TO EXTRACT AWARD DATA OF THE CELEBRITIES"
   ]
  },
  {
   "cell_type": "code",
   "execution_count": 11,
   "metadata": {},
   "outputs": [],
   "source": [
    "def get_awards(soup):\n",
    "    try:\n",
    "        div_list = soup.findAll('div', {'data-testid':'awards'})\n",
    "        awards = div_list[0].findAll('li',{'class':'ipc-inline-list__item'})[0].text\n",
    "    except Exception as e:\n",
    "        awards = np.nan\n",
    "    return awards"
   ]
  },
  {
   "cell_type": "markdown",
   "metadata": {},
   "source": [
    "# FUNCTION TO EXTRACT ROLES OF THE CELEBRITIES"
   ]
  },
  {
   "cell_type": "code",
   "execution_count": 12,
   "metadata": {},
   "outputs": [],
   "source": [
    "def get_role(soup):\n",
    "    role_list = []\n",
    "    try:\n",
    "        li_list = soup.findAll('ul', {'class':'ipc-inline-list ipc-inline-list--show-dividers sc-d8941411-2 cdJsTz baseAlt'})[0].findAll('li')\n",
    "        for i in li_list:\n",
    "            role_list.append(i.text)\n",
    "    except Exception as e:\n",
    "        role_list.append(np.nan)\n",
    "    return role_list"
   ]
  },
  {
   "cell_type": "code",
   "execution_count": 15,
   "metadata": {},
   "outputs": [
    {
     "data": {
      "text/plain": [
       "['Actor', 'Producer', 'Director']"
      ]
     },
     "execution_count": 15,
     "metadata": {},
     "output_type": "execute_result"
    }
   ],
   "source": [
    "get_role(soup)"
   ]
  },
  {
   "cell_type": "markdown",
   "metadata": {},
   "source": [
    "# MAIN LOOP TO ITERATE THROUGH EACH CELEBRITY'S WEBPAGE AND EXTRACT DATA"
   ]
  },
  {
   "cell_type": "code",
   "execution_count": 16,
   "metadata": {},
   "outputs": [
    {
     "name": "stderr",
     "output_type": "stream",
     "text": [
      "Processing Links:   0%|          | 0/100 [00:00<?, ?it/s]"
     ]
    },
    {
     "name": "stderr",
     "output_type": "stream",
     "text": [
      "Processing Links: 100%|██████████| 100/100 [11:57<00:00,  7.17s/it]\n"
     ]
    }
   ],
   "source": [
    "dob_list = []\n",
    "height_list = []\n",
    "role_list = []\n",
    "award_list = []\n",
    "birth_list = []\n",
    "for i in tqdm(link_list, desc=\"Processing Links\"):\n",
    "    driver.get(f'https://m.imdb.com/{i}')\n",
    "    #time.sleep(2)\n",
    "    html = driver.page_source\n",
    "    soup = BeautifulSoup(html,\"html.parser\")\n",
    "    dob_list.append(get_dob(soup))\n",
    "    height_list.append(get_height(soup))\n",
    "    birth_list.append(get_birthplace(soup))\n",
    "    role_list.append(get_role(soup))\n",
    "    award_list.append(get_awards(soup))"
   ]
  },
  {
   "cell_type": "markdown",
   "metadata": {},
   "source": [
    "# CREATING DATAFRAME FOR COLLECTED DATASET "
   ]
  },
  {
   "cell_type": "code",
   "execution_count": 17,
   "metadata": {},
   "outputs": [],
   "source": [
    "df = pd.DataFrame({\n",
    "    'Rank':np.arange(1,101),\n",
    "    'Name': name_list,\n",
    "    'Date_of_birth': dob_list,\n",
    "    'height': height_list,\n",
    "    'Role': role_list,\n",
    "    'Awards': award_list,\n",
    "    'Famous_for': famous_list,\n",
    "    'Birth_place': birth_list\n",
    "})"
   ]
  },
  {
   "cell_type": "markdown",
   "metadata": {},
   "source": [
    "# CHECKING THE DATASET"
   ]
  },
  {
   "cell_type": "code",
   "execution_count": 18,
   "metadata": {},
   "outputs": [
    {
     "data": {
      "text/html": [
       "<div>\n",
       "<style scoped>\n",
       "    .dataframe tbody tr th:only-of-type {\n",
       "        vertical-align: middle;\n",
       "    }\n",
       "\n",
       "    .dataframe tbody tr th {\n",
       "        vertical-align: top;\n",
       "    }\n",
       "\n",
       "    .dataframe thead th {\n",
       "        text-align: right;\n",
       "    }\n",
       "</style>\n",
       "<table border=\"1\" class=\"dataframe\">\n",
       "  <thead>\n",
       "    <tr style=\"text-align: right;\">\n",
       "      <th></th>\n",
       "      <th>Rank</th>\n",
       "      <th>Name</th>\n",
       "      <th>Date_of_birth</th>\n",
       "      <th>height</th>\n",
       "      <th>Role</th>\n",
       "      <th>Awards</th>\n",
       "      <th>Famous_for</th>\n",
       "      <th>Birth_place</th>\n",
       "    </tr>\n",
       "  </thead>\n",
       "  <tbody>\n",
       "    <tr>\n",
       "      <th>0</th>\n",
       "      <td>1</td>\n",
       "      <td>Serinda Swan</td>\n",
       "      <td>July 11, 1984</td>\n",
       "      <td>5′ 7″ (1.70 m)</td>\n",
       "      <td>[Actress, Producer, Director]</td>\n",
       "      <td>2 nominations</td>\n",
       "      <td>Coroner (2019–2022)</td>\n",
       "      <td>West Vancouver, British Columbia, Canada</td>\n",
       "    </tr>\n",
       "    <tr>\n",
       "      <th>1</th>\n",
       "      <td>2</td>\n",
       "      <td>Alan Ritchson</td>\n",
       "      <td>November 28, 1982</td>\n",
       "      <td>6′ 3″ (1.91 m)</td>\n",
       "      <td>[Actor, Producer, Director]</td>\n",
       "      <td>3 wins &amp; 3 nominations</td>\n",
       "      <td>Teenage Mutant Ninja Turtles (2014)</td>\n",
       "      <td>Grand Forks, North Dakota, USA</td>\n",
       "    </tr>\n",
       "    <tr>\n",
       "      <th>2</th>\n",
       "      <td>3</td>\n",
       "      <td>Sofia Boutella</td>\n",
       "      <td>April 3, 1982</td>\n",
       "      <td>5′ 5″ (1.65 m)</td>\n",
       "      <td>[Actress, Soundtrack]</td>\n",
       "      <td>1 win &amp; 2 nominations</td>\n",
       "      <td>Kingsman: The Secret Service (2014)</td>\n",
       "      <td>Bab El Oued, Algeria</td>\n",
       "    </tr>\n",
       "    <tr>\n",
       "      <th>3</th>\n",
       "      <td>4</td>\n",
       "      <td>Sydney Sweeney</td>\n",
       "      <td>September 12, 1997</td>\n",
       "      <td>5′ 3½″ (1.61 m)</td>\n",
       "      <td>[Actress, Producer]</td>\n",
       "      <td>4 wins &amp; 17 nominations total</td>\n",
       "      <td>Euphoria (2019–2025)</td>\n",
       "      <td>Spokane, Washington, USA</td>\n",
       "    </tr>\n",
       "    <tr>\n",
       "      <th>4</th>\n",
       "      <td>5</td>\n",
       "      <td>Katy M. O'Brian</td>\n",
       "      <td>February 12, 1989</td>\n",
       "      <td>5′ 7″ (1.70 m)</td>\n",
       "      <td>[Actress, Stunts]</td>\n",
       "      <td>NaN</td>\n",
       "      <td>Ant-Man and the Wasp: Quantumania (2023)</td>\n",
       "      <td>Indianapolis, Indiana, USA</td>\n",
       "    </tr>\n",
       "  </tbody>\n",
       "</table>\n",
       "</div>"
      ],
      "text/plain": [
       "   Rank             Name       Date_of_birth           height  \\\n",
       "0     1     Serinda Swan       July 11, 1984   5′ 7″ (1.70 m)   \n",
       "1     2    Alan Ritchson   November 28, 1982   6′ 3″ (1.91 m)   \n",
       "2     3   Sofia Boutella       April 3, 1982   5′ 5″ (1.65 m)   \n",
       "3     4   Sydney Sweeney  September 12, 1997  5′ 3½″ (1.61 m)   \n",
       "4     5  Katy M. O'Brian   February 12, 1989   5′ 7″ (1.70 m)   \n",
       "\n",
       "                            Role                         Awards  \\\n",
       "0  [Actress, Producer, Director]                  2 nominations   \n",
       "1    [Actor, Producer, Director]         3 wins & 3 nominations   \n",
       "2          [Actress, Soundtrack]          1 win & 2 nominations   \n",
       "3            [Actress, Producer]  4 wins & 17 nominations total   \n",
       "4              [Actress, Stunts]                            NaN   \n",
       "\n",
       "                                 Famous_for  \\\n",
       "0                       Coroner (2019–2022)   \n",
       "1       Teenage Mutant Ninja Turtles (2014)   \n",
       "2       Kingsman: The Secret Service (2014)   \n",
       "3                      Euphoria (2019–2025)   \n",
       "4  Ant-Man and the Wasp: Quantumania (2023)   \n",
       "\n",
       "                                Birth_place  \n",
       "0  West Vancouver, British Columbia, Canada  \n",
       "1            Grand Forks, North Dakota, USA  \n",
       "2                      Bab El Oued, Algeria  \n",
       "3                  Spokane, Washington, USA  \n",
       "4                Indianapolis, Indiana, USA  "
      ]
     },
     "execution_count": 18,
     "metadata": {},
     "output_type": "execute_result"
    }
   ],
   "source": [
    "df.head()"
   ]
  },
  {
   "cell_type": "code",
   "execution_count": 19,
   "metadata": {},
   "outputs": [
    {
     "data": {
      "text/html": [
       "<div>\n",
       "<style scoped>\n",
       "    .dataframe tbody tr th:only-of-type {\n",
       "        vertical-align: middle;\n",
       "    }\n",
       "\n",
       "    .dataframe tbody tr th {\n",
       "        vertical-align: top;\n",
       "    }\n",
       "\n",
       "    .dataframe thead th {\n",
       "        text-align: right;\n",
       "    }\n",
       "</style>\n",
       "<table border=\"1\" class=\"dataframe\">\n",
       "  <thead>\n",
       "    <tr style=\"text-align: right;\">\n",
       "      <th></th>\n",
       "      <th>Rank</th>\n",
       "      <th>Name</th>\n",
       "      <th>Date_of_birth</th>\n",
       "      <th>height</th>\n",
       "      <th>Role</th>\n",
       "      <th>Awards</th>\n",
       "      <th>Famous_for</th>\n",
       "      <th>Birth_place</th>\n",
       "    </tr>\n",
       "  </thead>\n",
       "  <tbody>\n",
       "    <tr>\n",
       "      <th>95</th>\n",
       "      <td>96</td>\n",
       "      <td>Jesse Plemons</td>\n",
       "      <td>April 2, 1988</td>\n",
       "      <td>5′ 10″ (1.78 m)</td>\n",
       "      <td>[Actor, Music Department, Producer]</td>\n",
       "      <td>5 wins &amp; 43 nominations total</td>\n",
       "      <td>The Irishman (2019)</td>\n",
       "      <td>Dallas, Texas, USA</td>\n",
       "    </tr>\n",
       "    <tr>\n",
       "      <th>96</th>\n",
       "      <td>97</td>\n",
       "      <td>Eve Best</td>\n",
       "      <td>July 31, 1971</td>\n",
       "      <td>5′ 10″ (1.78 m)</td>\n",
       "      <td>[Actress, Director]</td>\n",
       "      <td>2 nominations</td>\n",
       "      <td>The King's Speech (2010)</td>\n",
       "      <td>London, England, UK</td>\n",
       "    </tr>\n",
       "    <tr>\n",
       "      <th>97</th>\n",
       "      <td>98</td>\n",
       "      <td>Annie Murphy</td>\n",
       "      <td>December 19, 1986</td>\n",
       "      <td>5′ 7″ (1.70 m)</td>\n",
       "      <td>[Actress, Writer, Soundtrack]</td>\n",
       "      <td>7 wins &amp; 15 nominations total</td>\n",
       "      <td>Schitt's Creek (2015–2020)</td>\n",
       "      <td>Ottawa, Ontario, Canada</td>\n",
       "    </tr>\n",
       "    <tr>\n",
       "      <th>98</th>\n",
       "      <td>99</td>\n",
       "      <td>Karen Allen</td>\n",
       "      <td>October 5, 1951</td>\n",
       "      <td>5′ 5″ (1.65 m)</td>\n",
       "      <td>[Actress, Director, Soundtrack]</td>\n",
       "      <td>12 wins &amp; 6 nominations</td>\n",
       "      <td>Raiders of the Lost Ark (1981)</td>\n",
       "      <td>Carrollton, Illinois, USA</td>\n",
       "    </tr>\n",
       "    <tr>\n",
       "      <th>99</th>\n",
       "      <td>100</td>\n",
       "      <td>Alyssa Milano</td>\n",
       "      <td>December 19, 1972</td>\n",
       "      <td>5′ 2″ (1.57 m)</td>\n",
       "      <td>[Actress, Producer, Writer]</td>\n",
       "      <td>8 wins &amp; 8 nominations</td>\n",
       "      <td>Charmed (1998–2006)</td>\n",
       "      <td>Brooklyn, New York City, New York, USA</td>\n",
       "    </tr>\n",
       "  </tbody>\n",
       "</table>\n",
       "</div>"
      ],
      "text/plain": [
       "    Rank           Name      Date_of_birth           height  \\\n",
       "95    96  Jesse Plemons      April 2, 1988  5′ 10″ (1.78 m)   \n",
       "96    97       Eve Best      July 31, 1971  5′ 10″ (1.78 m)   \n",
       "97    98   Annie Murphy  December 19, 1986   5′ 7″ (1.70 m)   \n",
       "98    99    Karen Allen    October 5, 1951   5′ 5″ (1.65 m)   \n",
       "99   100  Alyssa Milano  December 19, 1972   5′ 2″ (1.57 m)   \n",
       "\n",
       "                                   Role                         Awards  \\\n",
       "95  [Actor, Music Department, Producer]  5 wins & 43 nominations total   \n",
       "96                  [Actress, Director]                  2 nominations   \n",
       "97        [Actress, Writer, Soundtrack]  7 wins & 15 nominations total   \n",
       "98      [Actress, Director, Soundtrack]        12 wins & 6 nominations   \n",
       "99          [Actress, Producer, Writer]         8 wins & 8 nominations   \n",
       "\n",
       "                        Famous_for                             Birth_place  \n",
       "95             The Irishman (2019)                      Dallas, Texas, USA  \n",
       "96        The King's Speech (2010)                     London, England, UK  \n",
       "97      Schitt's Creek (2015–2020)                 Ottawa, Ontario, Canada  \n",
       "98  Raiders of the Lost Ark (1981)               Carrollton, Illinois, USA  \n",
       "99             Charmed (1998–2006)  Brooklyn, New York City, New York, USA  "
      ]
     },
     "execution_count": 19,
     "metadata": {},
     "output_type": "execute_result"
    }
   ],
   "source": [
    "df.tail()"
   ]
  },
  {
   "cell_type": "code",
   "execution_count": 20,
   "metadata": {},
   "outputs": [
    {
     "data": {
      "text/html": [
       "<div>\n",
       "<style scoped>\n",
       "    .dataframe tbody tr th:only-of-type {\n",
       "        vertical-align: middle;\n",
       "    }\n",
       "\n",
       "    .dataframe tbody tr th {\n",
       "        vertical-align: top;\n",
       "    }\n",
       "\n",
       "    .dataframe thead th {\n",
       "        text-align: right;\n",
       "    }\n",
       "</style>\n",
       "<table border=\"1\" class=\"dataframe\">\n",
       "  <thead>\n",
       "    <tr style=\"text-align: right;\">\n",
       "      <th></th>\n",
       "      <th>Rank</th>\n",
       "      <th>Name</th>\n",
       "      <th>Date_of_birth</th>\n",
       "      <th>height</th>\n",
       "      <th>Role</th>\n",
       "      <th>Awards</th>\n",
       "      <th>Famous_for</th>\n",
       "      <th>Birth_place</th>\n",
       "    </tr>\n",
       "  </thead>\n",
       "  <tbody>\n",
       "    <tr>\n",
       "      <th>73</th>\n",
       "      <td>74</td>\n",
       "      <td>Madelyn Cline</td>\n",
       "      <td>December 21, 1997</td>\n",
       "      <td>5′ 6″ (1.68 m)</td>\n",
       "      <td>[Actress, Soundtrack]</td>\n",
       "      <td>1 win &amp; 1 nomination</td>\n",
       "      <td>Glass Onion (2022)</td>\n",
       "      <td>Charleston, South Carolina, USA</td>\n",
       "    </tr>\n",
       "    <tr>\n",
       "      <th>63</th>\n",
       "      <td>64</td>\n",
       "      <td>Leonardo DiCaprio</td>\n",
       "      <td>November 11, 1974</td>\n",
       "      <td>6′ (1.83 m)</td>\n",
       "      <td>[Producer, Actor, Writer]</td>\n",
       "      <td>103 wins &amp; 272 nominations total</td>\n",
       "      <td>Inception (2010)</td>\n",
       "      <td>Hollywood, Los Angeles, California, USA</td>\n",
       "    </tr>\n",
       "    <tr>\n",
       "      <th>47</th>\n",
       "      <td>48</td>\n",
       "      <td>Robert Patrick</td>\n",
       "      <td>November 5, 1958</td>\n",
       "      <td>6′ (1.83 m)</td>\n",
       "      <td>[Actor, Producer]</td>\n",
       "      <td>5 wins &amp; 6 nominations</td>\n",
       "      <td>Terminator 2: Judgment Day (1991)</td>\n",
       "      <td>Marietta, Georgia, USA</td>\n",
       "    </tr>\n",
       "    <tr>\n",
       "      <th>3</th>\n",
       "      <td>4</td>\n",
       "      <td>Sydney Sweeney</td>\n",
       "      <td>September 12, 1997</td>\n",
       "      <td>5′ 3½″ (1.61 m)</td>\n",
       "      <td>[Actress, Producer]</td>\n",
       "      <td>4 wins &amp; 17 nominations total</td>\n",
       "      <td>Euphoria (2019–2025)</td>\n",
       "      <td>Spokane, Washington, USA</td>\n",
       "    </tr>\n",
       "    <tr>\n",
       "      <th>29</th>\n",
       "      <td>30</td>\n",
       "      <td>Juno Temple</td>\n",
       "      <td>July 21, 1989</td>\n",
       "      <td>5′ 2″ (1.57 m)</td>\n",
       "      <td>[Actress, Soundtrack]</td>\n",
       "      <td>6 wins &amp; 22 nominations total</td>\n",
       "      <td>Atonement (2007)</td>\n",
       "      <td>London, England, UK</td>\n",
       "    </tr>\n",
       "    <tr>\n",
       "      <th>0</th>\n",
       "      <td>1</td>\n",
       "      <td>Serinda Swan</td>\n",
       "      <td>July 11, 1984</td>\n",
       "      <td>5′ 7″ (1.70 m)</td>\n",
       "      <td>[Actress, Producer, Director]</td>\n",
       "      <td>2 nominations</td>\n",
       "      <td>Coroner (2019–2022)</td>\n",
       "      <td>West Vancouver, British Columbia, Canada</td>\n",
       "    </tr>\n",
       "    <tr>\n",
       "      <th>21</th>\n",
       "      <td>22</td>\n",
       "      <td>Jenna Ortega</td>\n",
       "      <td>September 27, 2002</td>\n",
       "      <td>5′ 1″ (1.55 m)</td>\n",
       "      <td>[Actress, Producer, Soundtrack]</td>\n",
       "      <td>8 wins &amp; 22 nominations total</td>\n",
       "      <td>Scream (2022)</td>\n",
       "      <td>Coachella Valley, California, USA</td>\n",
       "    </tr>\n",
       "    <tr>\n",
       "      <th>92</th>\n",
       "      <td>93</td>\n",
       "      <td>Joel Kinnaman</td>\n",
       "      <td>November 25, 1979</td>\n",
       "      <td>6′ 2½″ (1.89 m)</td>\n",
       "      <td>[Actor, Producer]</td>\n",
       "      <td>1 win &amp; 5 nominations</td>\n",
       "      <td>The Killing (2011–2014)</td>\n",
       "      <td>Stockholm, Sweden</td>\n",
       "    </tr>\n",
       "    <tr>\n",
       "      <th>57</th>\n",
       "      <td>58</td>\n",
       "      <td>Jeremy Allen White</td>\n",
       "      <td>February 17, 1991</td>\n",
       "      <td>5′ 7″ (1.70 m)</td>\n",
       "      <td>[Actor, Writer, Producer]</td>\n",
       "      <td>5 wins &amp; 16 nominations total</td>\n",
       "      <td>Shameless (2011–2021)</td>\n",
       "      <td>Brooklyn, New York, USA</td>\n",
       "    </tr>\n",
       "    <tr>\n",
       "      <th>71</th>\n",
       "      <td>72</td>\n",
       "      <td>Sarah Rafferty</td>\n",
       "      <td>December 6, 1972</td>\n",
       "      <td>5′ 9″ (1.75 m)</td>\n",
       "      <td>[Actress, Producer, Soundtrack]</td>\n",
       "      <td>NaN</td>\n",
       "      <td>Suits (2011–2019)</td>\n",
       "      <td>New Canaan, Connecticut, USA</td>\n",
       "    </tr>\n",
       "    <tr>\n",
       "      <th>30</th>\n",
       "      <td>31</td>\n",
       "      <td>Virginia Kull</td>\n",
       "      <td>October 5</td>\n",
       "      <td>5′ 5¾″ (1.67 m)</td>\n",
       "      <td>[Actress]</td>\n",
       "      <td>NaN</td>\n",
       "      <td>Big Little Lies (2017– )</td>\n",
       "      <td>Dallas, Texas, USA</td>\n",
       "    </tr>\n",
       "    <tr>\n",
       "      <th>7</th>\n",
       "      <td>8</td>\n",
       "      <td>Timothée Chalamet</td>\n",
       "      <td>December 27, 1995</td>\n",
       "      <td>5′ 10″ (1.78 m)</td>\n",
       "      <td>[Actor, Producer, Soundtrack]</td>\n",
       "      <td>41 wins &amp; 100 nominations total</td>\n",
       "      <td>Call Me by Your Name (2017)</td>\n",
       "      <td>New York City, New York, USA</td>\n",
       "    </tr>\n",
       "    <tr>\n",
       "      <th>66</th>\n",
       "      <td>67</td>\n",
       "      <td>Staz Nair</td>\n",
       "      <td>June 17, 1991</td>\n",
       "      <td>6′ 1″ (1.85 m)</td>\n",
       "      <td>[Actor, Soundtrack]</td>\n",
       "      <td>1 win &amp; 3 nominations</td>\n",
       "      <td>Game of Thrones (2016–2019)</td>\n",
       "      <td>London, England, UK</td>\n",
       "    </tr>\n",
       "    <tr>\n",
       "      <th>60</th>\n",
       "      <td>61</td>\n",
       "      <td>Katie Findlay</td>\n",
       "      <td>August 28, 1990</td>\n",
       "      <td>5′ 9″ (1.75 m)</td>\n",
       "      <td>[Actress, Soundtrack]</td>\n",
       "      <td>NaN</td>\n",
       "      <td>How to Get Away with Murder (2014–2015)</td>\n",
       "      <td>Windsor, Ontario, Canada</td>\n",
       "    </tr>\n",
       "    <tr>\n",
       "      <th>43</th>\n",
       "      <td>44</td>\n",
       "      <td>Alexandra Daddario</td>\n",
       "      <td>March 16, 1986</td>\n",
       "      <td>5′ 8″ (1.73 m)</td>\n",
       "      <td>[Actress, Producer, Soundtrack]</td>\n",
       "      <td>2 wins &amp; 8 nominations total</td>\n",
       "      <td>Baywatch (2017)</td>\n",
       "      <td>New York City, New York, USA</td>\n",
       "    </tr>\n",
       "    <tr>\n",
       "      <th>9</th>\n",
       "      <td>10</td>\n",
       "      <td>Jonathan Majors</td>\n",
       "      <td>September 7, 1989</td>\n",
       "      <td>6′ (1.83 m)</td>\n",
       "      <td>[Actor, Producer, Soundtrack]</td>\n",
       "      <td>11 wins &amp; 35 nominations total</td>\n",
       "      <td>Lovecraft Country (2020– )</td>\n",
       "      <td>Lompoc, California, USA</td>\n",
       "    </tr>\n",
       "    <tr>\n",
       "      <th>59</th>\n",
       "      <td>60</td>\n",
       "      <td>Zoe Colletti</td>\n",
       "      <td>November 27, 2001</td>\n",
       "      <td>NaN</td>\n",
       "      <td>[Actress, Soundtrack]</td>\n",
       "      <td>NaN</td>\n",
       "      <td>Scary Stories to Tell in the Dark (2019)</td>\n",
       "      <td>United States</td>\n",
       "    </tr>\n",
       "    <tr>\n",
       "      <th>65</th>\n",
       "      <td>66</td>\n",
       "      <td>Ethan Hawke</td>\n",
       "      <td>November 6, 1970</td>\n",
       "      <td>5′ 10½″ (1.79 m)</td>\n",
       "      <td>[Actor, Producer, Writer]</td>\n",
       "      <td>73 wins &amp; 169 nominations total</td>\n",
       "      <td>Training Day (2001)</td>\n",
       "      <td>Austin, Texas, USA</td>\n",
       "    </tr>\n",
       "    <tr>\n",
       "      <th>38</th>\n",
       "      <td>39</td>\n",
       "      <td>Ashley Benson</td>\n",
       "      <td>December 18, 1989</td>\n",
       "      <td>5′ 5″ (1.65 m)</td>\n",
       "      <td>[Actress, Producer, Soundtrack]</td>\n",
       "      <td>5 wins &amp; 6 nominations</td>\n",
       "      <td>Spring Breakers (2012)</td>\n",
       "      <td>Long Beach, California, USA</td>\n",
       "    </tr>\n",
       "    <tr>\n",
       "      <th>12</th>\n",
       "      <td>13</td>\n",
       "      <td>James McCaffrey</td>\n",
       "      <td>March 27, 1958</td>\n",
       "      <td>6′ (1.83 m)</td>\n",
       "      <td>[Actor, Producer, Additional Crew]</td>\n",
       "      <td>1 nomination</td>\n",
       "      <td>Max Payne 3 (2012)</td>\n",
       "      <td>Albany, New York, USA</td>\n",
       "    </tr>\n",
       "  </tbody>\n",
       "</table>\n",
       "</div>"
      ],
      "text/plain": [
       "    Rank                Name       Date_of_birth            height  \\\n",
       "73    74       Madelyn Cline   December 21, 1997    5′ 6″ (1.68 m)   \n",
       "63    64   Leonardo DiCaprio   November 11, 1974       6′ (1.83 m)   \n",
       "47    48      Robert Patrick    November 5, 1958       6′ (1.83 m)   \n",
       "3      4      Sydney Sweeney  September 12, 1997   5′ 3½″ (1.61 m)   \n",
       "29    30         Juno Temple       July 21, 1989    5′ 2″ (1.57 m)   \n",
       "0      1        Serinda Swan       July 11, 1984    5′ 7″ (1.70 m)   \n",
       "21    22        Jenna Ortega  September 27, 2002    5′ 1″ (1.55 m)   \n",
       "92    93       Joel Kinnaman   November 25, 1979   6′ 2½″ (1.89 m)   \n",
       "57    58  Jeremy Allen White   February 17, 1991    5′ 7″ (1.70 m)   \n",
       "71    72      Sarah Rafferty    December 6, 1972    5′ 9″ (1.75 m)   \n",
       "30    31       Virginia Kull           October 5   5′ 5¾″ (1.67 m)   \n",
       "7      8   Timothée Chalamet   December 27, 1995   5′ 10″ (1.78 m)   \n",
       "66    67           Staz Nair       June 17, 1991    6′ 1″ (1.85 m)   \n",
       "60    61       Katie Findlay     August 28, 1990    5′ 9″ (1.75 m)   \n",
       "43    44  Alexandra Daddario      March 16, 1986    5′ 8″ (1.73 m)   \n",
       "9     10     Jonathan Majors   September 7, 1989       6′ (1.83 m)   \n",
       "59    60        Zoe Colletti   November 27, 2001               NaN   \n",
       "65    66         Ethan Hawke    November 6, 1970  5′ 10½″ (1.79 m)   \n",
       "38    39       Ashley Benson   December 18, 1989    5′ 5″ (1.65 m)   \n",
       "12    13     James McCaffrey      March 27, 1958       6′ (1.83 m)   \n",
       "\n",
       "                                  Role                            Awards  \\\n",
       "73               [Actress, Soundtrack]              1 win & 1 nomination   \n",
       "63           [Producer, Actor, Writer]  103 wins & 272 nominations total   \n",
       "47                   [Actor, Producer]            5 wins & 6 nominations   \n",
       "3                  [Actress, Producer]     4 wins & 17 nominations total   \n",
       "29               [Actress, Soundtrack]     6 wins & 22 nominations total   \n",
       "0        [Actress, Producer, Director]                     2 nominations   \n",
       "21     [Actress, Producer, Soundtrack]     8 wins & 22 nominations total   \n",
       "92                   [Actor, Producer]             1 win & 5 nominations   \n",
       "57           [Actor, Writer, Producer]     5 wins & 16 nominations total   \n",
       "71     [Actress, Producer, Soundtrack]                               NaN   \n",
       "30                           [Actress]                               NaN   \n",
       "7        [Actor, Producer, Soundtrack]   41 wins & 100 nominations total   \n",
       "66                 [Actor, Soundtrack]             1 win & 3 nominations   \n",
       "60               [Actress, Soundtrack]                               NaN   \n",
       "43     [Actress, Producer, Soundtrack]      2 wins & 8 nominations total   \n",
       "9        [Actor, Producer, Soundtrack]    11 wins & 35 nominations total   \n",
       "59               [Actress, Soundtrack]                               NaN   \n",
       "65           [Actor, Producer, Writer]   73 wins & 169 nominations total   \n",
       "38     [Actress, Producer, Soundtrack]            5 wins & 6 nominations   \n",
       "12  [Actor, Producer, Additional Crew]                      1 nomination   \n",
       "\n",
       "                                  Famous_for  \\\n",
       "73                        Glass Onion (2022)   \n",
       "63                          Inception (2010)   \n",
       "47         Terminator 2: Judgment Day (1991)   \n",
       "3                       Euphoria (2019–2025)   \n",
       "29                          Atonement (2007)   \n",
       "0                        Coroner (2019–2022)   \n",
       "21                             Scream (2022)   \n",
       "92                   The Killing (2011–2014)   \n",
       "57                     Shameless (2011–2021)   \n",
       "71                         Suits (2011–2019)   \n",
       "30                  Big Little Lies (2017– )   \n",
       "7                Call Me by Your Name (2017)   \n",
       "66               Game of Thrones (2016–2019)   \n",
       "60   How to Get Away with Murder (2014–2015)   \n",
       "43                           Baywatch (2017)   \n",
       "9                 Lovecraft Country (2020– )   \n",
       "59  Scary Stories to Tell in the Dark (2019)   \n",
       "65                       Training Day (2001)   \n",
       "38                    Spring Breakers (2012)   \n",
       "12                        Max Payne 3 (2012)   \n",
       "\n",
       "                                 Birth_place  \n",
       "73           Charleston, South Carolina, USA  \n",
       "63   Hollywood, Los Angeles, California, USA  \n",
       "47                    Marietta, Georgia, USA  \n",
       "3                   Spokane, Washington, USA  \n",
       "29                       London, England, UK  \n",
       "0   West Vancouver, British Columbia, Canada  \n",
       "21         Coachella Valley, California, USA  \n",
       "92                         Stockholm, Sweden  \n",
       "57                   Brooklyn, New York, USA  \n",
       "71              New Canaan, Connecticut, USA  \n",
       "30                        Dallas, Texas, USA  \n",
       "7               New York City, New York, USA  \n",
       "66                       London, England, UK  \n",
       "60                  Windsor, Ontario, Canada  \n",
       "43              New York City, New York, USA  \n",
       "9                    Lompoc, California, USA  \n",
       "59                             United States  \n",
       "65                        Austin, Texas, USA  \n",
       "38               Long Beach, California, USA  \n",
       "12                     Albany, New York, USA  "
      ]
     },
     "execution_count": 20,
     "metadata": {},
     "output_type": "execute_result"
    }
   ],
   "source": [
    "df.sample(20)"
   ]
  },
  {
   "cell_type": "markdown",
   "metadata": {},
   "source": [
    "# SAVING THE DATASET"
   ]
  },
  {
   "cell_type": "code",
   "execution_count": 21,
   "metadata": {},
   "outputs": [],
   "source": [
    "df.to_csv('celebrity_data.csv',index= False)"
   ]
  },
  {
   "cell_type": "code",
   "execution_count": null,
   "metadata": {},
   "outputs": [],
   "source": []
  }
 ],
 "metadata": {
  "kernelspec": {
   "display_name": "Python 3",
   "language": "python",
   "name": "python3"
  },
  "language_info": {
   "codemirror_mode": {
    "name": "ipython",
    "version": 3
   },
   "file_extension": ".py",
   "mimetype": "text/x-python",
   "name": "python",
   "nbconvert_exporter": "python",
   "pygments_lexer": "ipython3",
   "version": "3.10.5"
  }
 },
 "nbformat": 4,
 "nbformat_minor": 2
}
